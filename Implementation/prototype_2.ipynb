{
 "cells": [
  {
   "cell_type": "code",
   "execution_count": 1,
   "id": "43073d8e",
   "metadata": {},
   "outputs": [],
   "source": [
    "import numpy as np\n",
    "import math\n",
    "class gen_samples:\n",
    "    def __init__(self, pi, mu, C, dim):\n",
    "        self.X = list()\n",
    "        self.pi = pi\n",
    "        self.mu = mu\n",
    "        self.C = C\n",
    "        self.dim = dim\n",
    "        return\n",
    "    def generate_samples(self, n_samples):\n",
    "        iter = 1\n",
    "        while(iter <= n_samples):\n",
    "            z_i = np.argmax(np.random.multinomial(1, self.pi))\n",
    "            sample = np.random.multivariate_normal(self.mu[z_i], self.C[z_i], 1)\n",
    "            self.X.extend(sample)\n",
    "            iter += 1\n",
    "        return"
   ]
  },
  {
   "cell_type": "code",
   "execution_count": 2,
   "id": "e4462552",
   "metadata": {},
   "outputs": [],
   "source": [
    "pi = [1/2,1/3,1/3]\n",
    "mu = [[10,0],[0,5],[-10,-10]]\n",
    "C = [[[0.5,0],[0,0.5]],[[0.5,0],[0,0.5]],[[0.5,0],[0,0.5]]]\n",
    "sample_run = gen_samples(pi,mu,C,2)"
   ]
  },
  {
   "cell_type": "code",
   "execution_count": 3,
   "id": "b3122274",
   "metadata": {},
   "outputs": [],
   "source": [
    "sample_run.generate_samples(1000)"
   ]
  },
  {
   "cell_type": "code",
   "execution_count": 4,
   "id": "a73582d3",
   "metadata": {},
   "outputs": [],
   "source": [
    "import matplotlib.pyplot as plt\n",
    "def plot_samples_2d(data):\n",
    "    # Plotting the samples\n",
    "    x_values = [point[0] for point in data]\n",
    "    y_values = [point[1] for point in data]\n",
    "    plt.scatter(x_values, y_values, label='Sample Points', color='blue')\n",
    "    # Adding labels and title\n",
    "    plt.xlabel('X-axis')\n",
    "    plt.ylabel('Y-axis')\n",
    "    plt.title('2D Sample Plot')\n",
    "    # Adding a legend\n",
    "    plt.legend()\n",
    "    # Display the plot\n",
    "    plt.show()\n",
    "\n",
    "def plot_samples_1d(data):\n",
    "    sample_data_1d = [point[0] for point in data]\n",
    "    # Plotting the histogram of 1D samples\n",
    "    plt.hist(sample_data_1d, bins=100, color='blue', edgecolor='black', alpha=0.7)\n",
    "\n",
    "    # Adding labels and title\n",
    "    plt.xlabel('X-axis')\n",
    "    plt.ylabel('Frequency')\n",
    "    plt.title('1D Sample Histogram')\n",
    "\n",
    "    # Display the plot\n",
    "    plt.show()\n",
    "    return\n",
    "\n",
    "def plot_generated_samples(data):\n",
    "    if(len(data[0])==1):\n",
    "        plot_samples_1d(data)\n",
    "    if(len(data[0])==2):\n",
    "        plot_samples_2d(data)\n",
    "    return"
   ]
  },
  {
   "cell_type": "code",
   "execution_count": 5,
   "id": "08f5a1cd",
   "metadata": {},
   "outputs": [
    {
     "data": {
      "image/png": "[encoded data removed]",
      "text/plain": [
       "<Figure size 640x480 with 1 Axes>"
      ]
     },
     "metadata": {},
     "output_type": "display_data"
    }
   ],
   "source": [
    "plot_generated_samples(sample_run.X)"
   ]
  },
  {
   "cell_type": "code",
   "execution_count": 6,
   "id": "22ede126",
   "metadata": {},
   "outputs": [],
   "source": [
    "from sklearn.cluster import DBSCAN\n",
    "from sklearn.mixture import GaussianMixture\n",
    "import numpy as np\n",
    "import math\n",
    "from scipy.stats import multivariate_normal\n",
    "from sklearn.decomposition import PCA\n",
    "\n",
    "class igmm:\n",
    "    def __init__(self, X, dim, sigma_ini, tau, dbscan_eps, dbscan_min_samples, cluster_threshold):\n",
    "        self.X = X\n",
    "        self.dim = dim\n",
    "        self.pi = []\n",
    "        self.mu = []\n",
    "        self.C = []\n",
    "        self.sp = []\n",
    "        self.sigma_ini = sigma_ini\n",
    "        self.tau = tau\n",
    "        self.outlier_set = []  # New list to store outlier data points\n",
    "        self.dbscan_eps = dbscan_eps\n",
    "        self.dbscan_min_samples = dbscan_min_samples\n",
    "        self.cluster_threshold = cluster_threshold\n",
    "        self.current_cluster = []\n",
    "        \n",
    "    def posterior_prob(self, x, component):\n",
    "        mvn = multivariate_normal(mean=np.array(self.mu[component]), cov=np.array(self.C[component]))\n",
    "        pdf_value = mvn.pdf(x)\n",
    "        return self.pi[component] * pdf_value\n",
    "    \n",
    "    def createnewornot(self, x):\n",
    "        createnew = True\n",
    "        for i in range(len(self.pi)):\n",
    "            novelty_criterion = self.tau / (((2 * math.pi) ** (self.dim / 2)) * math.sqrt(np.linalg.det(np.array(self.C[i]))))\n",
    "            mvn = multivariate_normal(mean=self.mu[i], cov=np.array(self.C[i]))\n",
    "            pdf_value = mvn.pdf(x)\n",
    "            if pdf_value >= novelty_criterion:\n",
    "                createnew = False\n",
    "                return createnew\n",
    "        return createnew\n",
    "    \n",
    "    def update_existing_components(self, x):\n",
    "        #print(\"Components getting updated\")\n",
    "        for j in range(len(self.sp)):\n",
    "            posterior_value = self.posterior_prob(x, j)\n",
    "            self.sp[j] += posterior_value\n",
    "            prev_mu = self.mu[j]\n",
    "            self.mu[j] = self.mu[j] + (posterior_value / self.sp[j]) * (np.array(x) - self.mu[j])\n",
    "            self.C[j] = self.C[j] - np.matmul((self.mu[j] - prev_mu), (self.mu[j] - prev_mu).T) + (posterior_value / self.sp[j]) * (np.matmul((np.array(x) - self.mu[j]),(np.array(x) - self.mu[j]).T) - self.C[j])\n",
    "        total_sum = np.sum(self.sp)\n",
    "        for j in range(len(self.pi)):\n",
    "            self.pi[j] = self.sp[j] / total_sum\n",
    "    \n",
    "    def add_new_component(self, x):\n",
    "        # Use the EM algorithm to estimate parameters\n",
    "        gmm = GaussianMixture(n_components=1, covariance_type='full')\n",
    "        gmm.fit(self.current_cluster)\n",
    "        new_mu = gmm.means_[0]\n",
    "        new_covariance_matrix = gmm.covariances_[0]\n",
    "        new_weight = gmm.weights_[0]\n",
    "\n",
    "        self.mu.append(new_mu)\n",
    "        self.C.append(new_covariance_matrix)\n",
    "        self.sp.append(len(self.current_cluster))\n",
    "        total_sum = np.sum(self.sp)\n",
    "        for j in range(len(self.sp) - 1):\n",
    "            self.pi[j] = self.sp[j] / total_sum\n",
    "        self.pi.append(self.sp[len(self.sp) - 1] / total_sum)\n",
    "    \n",
    "    def update(self, x):\n",
    "        createnew = self.createnewornot(x)\n",
    "        if createnew:\n",
    "            #print(\"Creating new and appending to outlier\")\n",
    "            # Store the data point in the outlier set\n",
    "            self.outlier_set.append(x)\n",
    "            \n",
    "            # Periodically perform DBSCAN clustering after the arrival of every 100 data points\n",
    "            if len(self.outlier_set) >= 10:\n",
    "                #print(\"Check for the outliers is being performed\")\n",
    "                self.perform_dbscan()\n",
    "        else:\n",
    "            #print(\"Not creating new and updating components\")\n",
    "            self.update_existing_components(x)\n",
    "    \n",
    "    def perform_dbscan(self):\n",
    "        if len(self.outlier_set) >= self.dbscan_min_samples:\n",
    "            # Convert the outlier set to a NumPy array\n",
    "            outlier_data = np.array(self.outlier_set)\n",
    "            \n",
    "            # Apply DBSCAN clustering\n",
    "            dbscan = DBSCAN(eps=self.dbscan_eps, min_samples=self.dbscan_min_samples)\n",
    "            labels = dbscan.fit_predict(outlier_data)\n",
    "            \n",
    "            # Check for clusters with a number of points above the threshold\n",
    "            for cluster_label in np.unique(labels):\n",
    "                cluster_points = outlier_data[labels == cluster_label]\n",
    "                if len(cluster_points) > self.cluster_threshold * len(self.X):\n",
    "                    # Remove points from the outlier set\n",
    "                    #print(\"Cluster in the outliers found\")\n",
    "                    self.current_cluster = cluster_points\n",
    "                    self.outlier_set = [point for point in self.outlier_set if point not in cluster_points]\n",
    "                    \n",
    "                    # For each point, check the novelty criterion and update accordingly\n",
    "                    for point in cluster_points:\n",
    "                        if self.createnewornot(point):\n",
    "                            #print(\"Outlier point is forming a new component\")\n",
    "                            # If the point meets the novelty criterion, update existing components\n",
    "                            self.add_new_component(point)\n",
    "                        else:\n",
    "                            # If the point doesn't meet the novelty criterion, add a new component\n",
    "                            #print(\"Outlier point is getting updated in the components\")\n",
    "                            self.update_existing_components(point)\n",
    "    \n",
    "    def fit(self):\n",
    "        for x in self.X:\n",
    "            self.update(x)\n",
    "            print_pi = np.array(self.pi)\n",
    "            print_mean = np.array(self.mu)\n",
    "            print_cov = np.array(self.C)\n",
    "            print_sp = np.array(self.sp)\n",
    "        return"
   ]
  },
  {
   "cell_type": "code",
   "execution_count": 7,
   "id": "a96fa0d5",
   "metadata": {},
   "outputs": [],
   "source": [
    "sample_run.X\n",
    "data = sample_run.X"
   ]
  },
  {
   "cell_type": "code",
   "execution_count": 10,
   "id": "83ed956f",
   "metadata": {},
   "outputs": [],
   "source": [
    "prototype_run = igmm(X=data, dim=2, sigma_ini=1.0, tau=0.01, dbscan_eps=0.5, dbscan_min_samples=10, cluster_threshold=0.1)"
   ]
  },
  {
   "cell_type": "code",
   "execution_count": 11,
   "id": "0a65b2c3",
   "metadata": {
    "scrolled": true
   },
   "outputs": [],
   "source": [
    "prototype_run.fit()"
   ]
  },
  {
   "cell_type": "code",
   "execution_count": 13,
   "id": "edef1239",
   "metadata": {},
   "outputs": [
    {
     "data": {
      "text/plain": [
       "[array([9.89316598, 0.03247114]),\n",
       " array([0.06432597, 4.93175514]),\n",
       " array([-9.95097741, -9.93988608])]"
      ]
     },
     "execution_count": 13,
     "metadata": {},
     "output_type": "execute_result"
    }
   ],
   "source": [
    "prototype_run.mu"
   ]
  },
  {
   "cell_type": "code",
   "execution_count": null,
   "id": "4432475e",
   "metadata": {},
   "outputs": [],
   "source": []
  }
 ],
 "metadata": {
  "kernelspec": {
   "display_name": "Python 3 (ipykernel)",
   "language": "python",
   "name": "python3"
  },
  "language_info": {
   "codemirror_mode": {
    "name": "ipython",
    "version": 3
   },
   "file_extension": ".py",
   "mimetype": "text/x-python",
   "name": "python",
   "nbconvert_exporter": "python",
   "pygments_lexer": "ipython3",
   "version": "3.10.1"
  }
 },
 "nbformat": 4,
 "nbformat_minor": 5
}
