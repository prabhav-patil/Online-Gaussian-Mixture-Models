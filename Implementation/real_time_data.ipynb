{
 "cells": [
  {
   "cell_type": "code",
   "execution_count": 6,
   "id": "06fe5c00",
   "metadata": {},
   "outputs": [
    {
     "name": "stdout",
     "output_type": "stream",
     "text": [
      "                  AAPL      Open      High       Low    Close   Volume  \\\n",
      "0  1711099800000000000  171.7600  172.3300  171.5000  172.065  1834154   \n",
      "1  1711099860000000000  172.0780  172.0800  171.7200  171.900   426488   \n",
      "2  1711099920000000000  171.9020  171.9100  171.5006  171.702   359707   \n",
      "3  1711099980000000000  171.7000  171.7600  171.2100  171.230   445301   \n",
      "4  1711100040000000000  171.2369  171.2369  170.8000  170.805   580439   \n",
      "\n",
      "   Intraday Return  Intraday Log Return  Historical Volatility  \\\n",
      "0              NaN                  NaN                    NaN   \n",
      "1         0.001283             0.000557                    NaN   \n",
      "2        -0.001278            -0.000555                    NaN   \n",
      "3        -0.001694            -0.000737                    NaN   \n",
      "4        -0.002395            -0.001041                    NaN   \n",
      "\n",
      "   Standard Deviation  True Range  Average True Range  Volume Volatility  \\\n",
      "0                 NaN         NaN                 NaN                NaN   \n",
      "1                 NaN      0.3600                 NaN                NaN   \n",
      "2                 NaN      0.4094                 NaN                NaN   \n",
      "3                 NaN      0.5500                 NaN                NaN   \n",
      "4                 NaN      0.4369                 NaN                NaN   \n",
      "\n",
      "   Volume Ratio  \n",
      "0           NaN  \n",
      "1           NaN  \n",
      "2           NaN  \n",
      "3           NaN  \n",
      "4           NaN  \n"
     ]
    }
   ],
   "source": [
    "import pandas as pd\n",
    "df = pd.read_excel('C:/Users/91860/Desktop/Google_Finance.xlsx')\n",
    "df = df.apply(pd.to_numeric, errors='coerce')\n",
    "print(df.head())"
   ]
  },
  {
   "cell_type": "code",
   "execution_count": 7,
   "id": "f0880ac9",
   "metadata": {},
   "outputs": [
    {
     "name": "stdout",
     "output_type": "stream",
     "text": [
      "                     AAPL      Open      High       Low    Close   Volume  \\\n",
      "0     1711099800000000000  171.7600  172.3300  171.5000  172.065  1834154   \n",
      "1     1711099860000000000  172.0780  172.0800  171.7200  171.900   426488   \n",
      "2     1711099920000000000  171.9020  171.9100  171.5006  171.702   359707   \n",
      "3     1711099980000000000  171.7000  171.7600  171.2100  171.230   445301   \n",
      "4     1711100040000000000  171.2369  171.2369  170.8000  170.805   580439   \n",
      "...                   ...       ...       ...       ...      ...      ...   \n",
      "1945  1711641300000000000  171.5950  171.8988  171.5800  171.770   304438   \n",
      "1946  1711641360000000000  171.7750  171.8600  171.7000  171.835   257373   \n",
      "1947  1711641420000000000  171.8450  171.9900  171.8000  171.945   255968   \n",
      "1948  1711641480000000000  171.9400  171.9500  171.8600  171.870   292938   \n",
      "1949  1711641540000000000  171.8600  171.9000  171.2500  171.480  1676581   \n",
      "\n",
      "      Intraday Return  Intraday Log Return  Historical Volatility  \\\n",
      "0                 NaN                  NaN                    NaN   \n",
      "1            0.001283             0.000557                    NaN   \n",
      "2           -0.001278            -0.000555                    NaN   \n",
      "3           -0.001694            -0.000737                    NaN   \n",
      "4           -0.002395            -0.001041                    NaN   \n",
      "...               ...                  ...                    ...   \n",
      "1945         0.000700             0.000304               0.000234   \n",
      "1946         0.000699             0.000304               0.000248   \n",
      "1947         0.000582             0.000253               0.000260   \n",
      "1948         0.000349             0.000152               0.000265   \n",
      "1949        -0.003549            -0.001544               0.000471   \n",
      "\n",
      "      Standard Deviation  True Range  Average True Range  Volume Volatility  \\\n",
      "0                    NaN         NaN                 NaN                NaN   \n",
      "1                    NaN      0.3600                 NaN                NaN   \n",
      "2                    NaN      0.4094                 NaN                NaN   \n",
      "3                    NaN      0.5500                 NaN                NaN   \n",
      "4                    NaN      0.4369                 NaN                NaN   \n",
      "...                  ...         ...                 ...                ...   \n",
      "1945            0.000539      0.3188            0.157029      111366.420794   \n",
      "1946            0.000570      0.1600            0.157215      111382.843786   \n",
      "1947            0.000600      0.1900            0.159264      108977.776970   \n",
      "1948            0.000610      0.0900            0.154935      105475.449429   \n",
      "1949            0.001084      0.6500            0.185876      374107.984205   \n",
      "\n",
      "      Volume Ratio  \n",
      "0              NaN  \n",
      "1              NaN  \n",
      "2              NaN  \n",
      "3              NaN  \n",
      "4              NaN  \n",
      "...            ...  \n",
      "1945      1.470835  \n",
      "1946      1.209022  \n",
      "1947      1.156224  \n",
      "1948      1.255725  \n",
      "1949      5.106140  \n",
      "\n",
      "[1950 rows x 14 columns]\n"
     ]
    }
   ],
   "source": [
    "print(df)"
   ]
  },
  {
   "cell_type": "code",
   "execution_count": 10,
   "id": "e640c27f",
   "metadata": {},
   "outputs": [
    {
     "name": "stdout",
     "output_type": "stream",
     "text": [
      "0            NaN\n",
      "1            NaN\n",
      "2            NaN\n",
      "3            NaN\n",
      "4            NaN\n",
      "          ...   \n",
      "1945    0.000234\n",
      "1946    0.000248\n",
      "1947    0.000260\n",
      "1948    0.000265\n",
      "1949    0.000471\n",
      "Name: Historical Volatility, Length: 1950, dtype: float64\n"
     ]
    }
   ],
   "source": [
    "print(df['Historical Volatility'])"
   ]
  },
  {
   "cell_type": "code",
   "execution_count": 18,
   "id": "a32fce67",
   "metadata": {},
   "outputs": [
    {
     "name": "stdout",
     "output_type": "stream",
     "text": [
      "171.76\n"
     ]
    }
   ],
   "source": [
    "print(df['Open'][0])"
   ]
  },
  {
   "cell_type": "code",
   "execution_count": 31,
   "id": "ff3423a5",
   "metadata": {},
   "outputs": [],
   "source": [
    "features = [df['Historical Volatility'], df['Average True Range'],df['Volume Volatility'],df['Volume Ratio']]"
   ]
  },
  {
   "cell_type": "code",
   "execution_count": 32,
   "id": "2ec64767",
   "metadata": {},
   "outputs": [],
   "source": [
    "data = [(features[0][i],features[1][i],features[2][i],features[3][i]) for i in range(len(df['Historical Volatility']))]"
   ]
  },
  {
   "cell_type": "code",
   "execution_count": 35,
   "id": "b015920d",
   "metadata": {
    "scrolled": false
   },
   "outputs": [],
   "source": [
    "dataset = data[15:]\n",
    "#dataset"
   ]
  },
  {
   "cell_type": "code",
   "execution_count": 58,
   "id": "102d48bb",
   "metadata": {},
   "outputs": [
    {
     "data": {
      "image/png": "[encoded data removed]",
      "text/plain": [
       "<Figure size 640x480 with 1 Axes>"
      ]
     },
     "metadata": {},
     "output_type": "display_data"
    }
   ],
   "source": [
    "import matplotlib.pyplot as plt\n",
    "x_coords = [y for w,x,y,z in dataset]\n",
    "y_coords = [z for w,x,y,z in dataset]\n",
    "plt.scatter(x_coords, y_coords, color = 'blue')\n",
    "plt.xlabel('x')\n",
    "plt.ylabel('y')\n",
    "plt.show()"
   ]
  },
  {
   "cell_type": "code",
   "execution_count": null,
   "id": "0c8732c4",
   "metadata": {},
   "outputs": [],
   "source": []
  }
 ],
 "metadata": {
  "kernelspec": {
   "display_name": "Python 3 (ipykernel)",
   "language": "python",
   "name": "python3"
  },
  "language_info": {
   "codemirror_mode": {
    "name": "ipython",
    "version": 3
   },
   "file_extension": ".py",
   "mimetype": "text/x-python",
   "name": "python",
   "nbconvert_exporter": "python",
   "pygments_lexer": "ipython3",
   "version": "3.10.1"
  }
 },
 "nbformat": 4,
 "nbformat_minor": 5
}
